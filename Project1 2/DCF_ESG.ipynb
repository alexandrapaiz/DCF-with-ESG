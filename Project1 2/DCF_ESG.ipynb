{
 "cells": [
  {
   "cell_type": "markdown",
   "id": "cd9cecb1-70ce-480f-a776-17aa53e39edf",
   "metadata": {},
   "source": [
    "# DCF with ESG premium - Calculate the fair value of FAANGS and add premium for ESG scores"
   ]
  },
  {
   "cell_type": "markdown",
   "id": "2a18641b-8f14-4414-bb2e-ce2b36ad3929",
   "metadata": {},
   "source": [
    "## Part 1\n",
    "Import data from the CSV files with FAANG data and convert to pandas DataFrames."
   ]
  },
  {
   "cell_type": "code",
   "execution_count": 62,
   "id": "de28060b-ffbb-47dc-811f-ccdb0f28c9e3",
   "metadata": {},
   "outputs": [],
   "source": [
    "#Import necessary modules\n",
    "import pandas as pd\n",
    "from pathlib import Path\n",
    "%matplotlib inline"
   ]
  },
  {
   "cell_type": "code",
   "execution_count": 63,
   "id": "b2a324df-adee-4544-bc4c-5e837e6d3c87",
   "metadata": {},
   "outputs": [
    {
     "data": {
      "text/html": [
       "<div>\n",
       "<style scoped>\n",
       "    .dataframe tbody tr th:only-of-type {\n",
       "        vertical-align: middle;\n",
       "    }\n",
       "\n",
       "    .dataframe tbody tr th {\n",
       "        vertical-align: top;\n",
       "    }\n",
       "\n",
       "    .dataframe thead th {\n",
       "        text-align: right;\n",
       "    }\n",
       "</style>\n",
       "<table border=\"1\" class=\"dataframe\">\n",
       "  <thead>\n",
       "    <tr style=\"text-align: right;\">\n",
       "      <th></th>\n",
       "      <th>DEBT</th>\n",
       "      <th>CASH &amp; EQUIVALENTS</th>\n",
       "      <th>MARGIN OF SAFETY</th>\n",
       "      <th>ESG SCORE</th>\n",
       "    </tr>\n",
       "    <tr>\n",
       "      <th>TICKER</th>\n",
       "      <th></th>\n",
       "      <th></th>\n",
       "      <th></th>\n",
       "      <th></th>\n",
       "    </tr>\n",
       "  </thead>\n",
       "  <tbody>\n",
       "    <tr>\n",
       "      <th>META</th>\n",
       "      <td>16680</td>\n",
       "      <td>12681</td>\n",
       "      <td>45</td>\n",
       "      <td>1007.00</td>\n",
       "    </tr>\n",
       "    <tr>\n",
       "      <th>AAPL</th>\n",
       "      <td>119690</td>\n",
       "      <td>27502</td>\n",
       "      <td>45</td>\n",
       "      <td>886.00</td>\n",
       "    </tr>\n",
       "    <tr>\n",
       "      <th>AMZN</th>\n",
       "      <td>157560</td>\n",
       "      <td>37478</td>\n",
       "      <td>45</td>\n",
       "      <td>1428.00</td>\n",
       "    </tr>\n",
       "    <tr>\n",
       "      <th>NFLX</th>\n",
       "      <td>16910</td>\n",
       "      <td>5819</td>\n",
       "      <td>45</td>\n",
       "      <td>NaN</td>\n",
       "    </tr>\n",
       "    <tr>\n",
       "      <th>GOOG</th>\n",
       "      <td>28810</td>\n",
       "      <td>17936</td>\n",
       "      <td>45</td>\n",
       "      <td>1034.00</td>\n",
       "    </tr>\n",
       "  </tbody>\n",
       "</table>\n",
       "</div>"
      ],
      "text/plain": [
       "          DEBT  CASH & EQUIVALENTS  MARGIN OF SAFETY  ESG SCORE\n",
       "TICKER                                                         \n",
       "META     16680               12681                45    1007.00\n",
       "AAPL    119690               27502                45     886.00\n",
       "AMZN    157560               37478                45    1428.00\n",
       "NFLX     16910                5819                45        NaN\n",
       "GOOG     28810               17936                45    1034.00"
      ]
     },
     "execution_count": 63,
     "metadata": {},
     "output_type": "execute_result"
    }
   ],
   "source": [
    "#Convert the FAANG data csv to a datframe.\n",
    "faang_data_df = pd.read_csv(\n",
    "    Path('./FAANG_DATA/stock_data.csv'),\n",
    "    index_col=\"TICKER\", \n",
    ")\n",
    "faang_data_df.head()"
   ]
  },
  {
   "cell_type": "code",
   "execution_count": 64,
   "id": "01f7ee66-76a6-49c3-aa58-67c765c3c7e7",
   "metadata": {},
   "outputs": [
    {
     "data": {
      "text/html": [
       "<div>\n",
       "<style scoped>\n",
       "    .dataframe tbody tr th:only-of-type {\n",
       "        vertical-align: middle;\n",
       "    }\n",
       "\n",
       "    .dataframe tbody tr th {\n",
       "        vertical-align: top;\n",
       "    }\n",
       "\n",
       "    .dataframe thead th {\n",
       "        text-align: right;\n",
       "    }\n",
       "</style>\n",
       "<table border=\"1\" class=\"dataframe\">\n",
       "  <thead>\n",
       "    <tr style=\"text-align: right;\">\n",
       "      <th></th>\n",
       "      <th>DEBT</th>\n",
       "      <th>CASH &amp; EQUIVALENTS</th>\n",
       "      <th>MARGIN OF SAFETY</th>\n",
       "      <th>ESG SCORE</th>\n",
       "    </tr>\n",
       "    <tr>\n",
       "      <th>TICKER</th>\n",
       "      <th></th>\n",
       "      <th></th>\n",
       "      <th></th>\n",
       "      <th></th>\n",
       "    </tr>\n",
       "  </thead>\n",
       "  <tbody>\n",
       "    <tr>\n",
       "      <th>META</th>\n",
       "      <td>16680</td>\n",
       "      <td>12681</td>\n",
       "      <td>45</td>\n",
       "      <td>1007.00</td>\n",
       "    </tr>\n",
       "    <tr>\n",
       "      <th>AAPL</th>\n",
       "      <td>119690</td>\n",
       "      <td>27502</td>\n",
       "      <td>45</td>\n",
       "      <td>886.00</td>\n",
       "    </tr>\n",
       "    <tr>\n",
       "      <th>AMZN</th>\n",
       "      <td>157560</td>\n",
       "      <td>37478</td>\n",
       "      <td>45</td>\n",
       "      <td>1428.00</td>\n",
       "    </tr>\n",
       "    <tr>\n",
       "      <th>GOOG</th>\n",
       "      <td>28810</td>\n",
       "      <td>17936</td>\n",
       "      <td>45</td>\n",
       "      <td>1034.00</td>\n",
       "    </tr>\n",
       "  </tbody>\n",
       "</table>\n",
       "</div>"
      ],
      "text/plain": [
       "          DEBT  CASH & EQUIVALENTS  MARGIN OF SAFETY  ESG SCORE\n",
       "TICKER                                                         \n",
       "META     16680               12681                45    1007.00\n",
       "AAPL    119690               27502                45     886.00\n",
       "AMZN    157560               37478                45    1428.00\n",
       "GOOG     28810               17936                45    1034.00"
      ]
     },
     "execution_count": 64,
     "metadata": {},
     "output_type": "execute_result"
    }
   ],
   "source": [
    "#Drop incomplete data\n",
    "faang_data_df = faang_data_df.drop(index='NFLX')\n",
    "faang_data_df"
   ]
  },
  {
   "cell_type": "code",
   "execution_count": 65,
   "id": "5295cd80-eb8a-48e1-b6f9-bb3f58fa6983",
   "metadata": {},
   "outputs": [
    {
     "data": {
      "text/html": [
       "<div>\n",
       "<style scoped>\n",
       "    .dataframe tbody tr th:only-of-type {\n",
       "        vertical-align: middle;\n",
       "    }\n",
       "\n",
       "    .dataframe tbody tr th {\n",
       "        vertical-align: top;\n",
       "    }\n",
       "\n",
       "    .dataframe thead th {\n",
       "        text-align: right;\n",
       "    }\n",
       "</style>\n",
       "<table border=\"1\" class=\"dataframe\">\n",
       "  <thead>\n",
       "    <tr style=\"text-align: right;\">\n",
       "      <th></th>\n",
       "      <th>DEBT</th>\n",
       "      <th>CASH &amp; EQUIVALENTS</th>\n",
       "      <th>MARGIN OF SAFETY</th>\n",
       "      <th>ESG SCORE</th>\n",
       "    </tr>\n",
       "    <tr>\n",
       "      <th>TICKER</th>\n",
       "      <th></th>\n",
       "      <th></th>\n",
       "      <th></th>\n",
       "      <th></th>\n",
       "    </tr>\n",
       "  </thead>\n",
       "  <tbody>\n",
       "    <tr>\n",
       "      <th>META</th>\n",
       "      <td>16680</td>\n",
       "      <td>12681</td>\n",
       "      <td>45</td>\n",
       "      <td>-0.03</td>\n",
       "    </tr>\n",
       "    <tr>\n",
       "      <th>AAPL</th>\n",
       "      <td>119690</td>\n",
       "      <td>27502</td>\n",
       "      <td>45</td>\n",
       "      <td>-0.09</td>\n",
       "    </tr>\n",
       "    <tr>\n",
       "      <th>AMZN</th>\n",
       "      <td>157560</td>\n",
       "      <td>37478</td>\n",
       "      <td>45</td>\n",
       "      <td>0.14</td>\n",
       "    </tr>\n",
       "    <tr>\n",
       "      <th>GOOG</th>\n",
       "      <td>28810</td>\n",
       "      <td>17936</td>\n",
       "      <td>45</td>\n",
       "      <td>-0.02</td>\n",
       "    </tr>\n",
       "  </tbody>\n",
       "</table>\n",
       "</div>"
      ],
      "text/plain": [
       "          DEBT  CASH & EQUIVALENTS  MARGIN OF SAFETY  ESG SCORE\n",
       "TICKER                                                         \n",
       "META     16680               12681                45      -0.03\n",
       "AAPL    119690               27502                45      -0.09\n",
       "AMZN    157560               37478                45       0.14\n",
       "GOOG     28810               17936                45      -0.02"
      ]
     },
     "execution_count": 65,
     "metadata": {},
     "output_type": "execute_result"
    }
   ],
   "source": [
    "#Normalize the ESG scores with Z-Scores\n",
    "\n",
    "esg_mean = faang_data_df['ESG SCORE'].mean()\n",
    "esg_std = faang_data_df['ESG SCORE'].std()\n",
    "esg_new =  (faang_data_df.loc[:,'ESG SCORE']  - esg_mean)/esg_std\n",
    "faang_data_df['ESG SCORE'] = esg_new*0.1\n",
    "faang_data_df"
   ]
  },
  {
   "cell_type": "code",
   "execution_count": 66,
   "id": "441b09a1-a861-40af-bc1e-90b307c52521",
   "metadata": {},
   "outputs": [],
   "source": [
    "#Convert the individual FAANG company csv files to datframes.\n",
    "meta_df = pd.read_csv(\n",
    "    Path('./FAANG_DATA/meta.csv'),\n",
    "    index_col=\"YEAR\", \n",
    ")\n",
    "\n",
    "aapl_df = pd.read_csv(\n",
    "    Path('./FAANG_DATA/aapl.csv'),\n",
    "    index_col=\"YEAR\", \n",
    ")\n",
    "\n",
    "amzn_df = pd.read_csv(\n",
    "    Path('./FAANG_DATA/amzn.csv'),\n",
    "    index_col=\"YEAR\", \n",
    ")\n",
    "\n",
    "\n",
    "goog_df = pd.read_csv(\n",
    "    Path('./FAANG_DATA/goog.csv'),\n",
    "    index_col=\"YEAR\", \n",
    ")\n"
   ]
  },
  {
   "cell_type": "code",
   "execution_count": 67,
   "id": "2d70d9ba-7d60-4c83-887f-ca8bf9317408",
   "metadata": {},
   "outputs": [
    {
     "data": {
      "text/html": [
       "<div>\n",
       "<style scoped>\n",
       "    .dataframe tbody tr th:only-of-type {\n",
       "        vertical-align: middle;\n",
       "    }\n",
       "\n",
       "    .dataframe tbody tr th {\n",
       "        vertical-align: top;\n",
       "    }\n",
       "\n",
       "    .dataframe thead th {\n",
       "        text-align: right;\n",
       "    }\n",
       "</style>\n",
       "<table border=\"1\" class=\"dataframe\">\n",
       "  <thead>\n",
       "    <tr style=\"text-align: right;\">\n",
       "      <th></th>\n",
       "      <th>2017</th>\n",
       "      <th>2018</th>\n",
       "      <th>2019</th>\n",
       "      <th>2020</th>\n",
       "      <th>2021</th>\n",
       "    </tr>\n",
       "    <tr>\n",
       "      <th>YEAR</th>\n",
       "      <th></th>\n",
       "      <th></th>\n",
       "      <th></th>\n",
       "      <th></th>\n",
       "      <th></th>\n",
       "    </tr>\n",
       "  </thead>\n",
       "  <tbody>\n",
       "    <tr>\n",
       "      <th>PERIOD</th>\n",
       "      <td>1.00</td>\n",
       "      <td>2.00</td>\n",
       "      <td>3.00</td>\n",
       "      <td>4.00</td>\n",
       "      <td>5.00</td>\n",
       "    </tr>\n",
       "    <tr>\n",
       "      <th>FCF</th>\n",
       "      <td>6410.00</td>\n",
       "      <td>17296.00</td>\n",
       "      <td>21653.00</td>\n",
       "      <td>25924.00</td>\n",
       "      <td>-14726.00</td>\n",
       "    </tr>\n",
       "    <tr>\n",
       "      <th>WACC</th>\n",
       "      <td>0.10</td>\n",
       "      <td>0.13</td>\n",
       "      <td>0.11</td>\n",
       "      <td>0.08</td>\n",
       "      <td>0.07</td>\n",
       "    </tr>\n",
       "  </tbody>\n",
       "</table>\n",
       "</div>"
      ],
      "text/plain": [
       "          2017     2018     2019     2020      2021\n",
       "YEAR                                               \n",
       "PERIOD    1.00     2.00     3.00     4.00      5.00\n",
       "FCF    6410.00 17296.00 21653.00 25924.00 -14726.00\n",
       "WACC      0.10     0.13     0.11     0.08      0.07"
      ]
     },
     "execution_count": 67,
     "metadata": {},
     "output_type": "execute_result"
    }
   ],
   "source": [
    "#preview one of the dataframes.\n",
    "amzn_df.head()"
   ]
  },
  {
   "cell_type": "markdown",
   "id": "d8992c2b-9be5-4d1d-b325-b52924d2e52b",
   "metadata": {
    "tags": []
   },
   "source": [
    "## Calculate the DCFs for each company"
   ]
  },
  {
   "cell_type": "markdown",
   "id": "f5f8d02a-9daf-43ea-a59d-58bea846b634",
   "metadata": {},
   "source": [
    "### META"
   ]
  },
  {
   "cell_type": "code",
   "execution_count": 68,
   "id": "a1ea1c13-06ae-4f8b-89be-2c43f0b4eae6",
   "metadata": {},
   "outputs": [],
   "source": [
    "#Discount the cash flows for META from 2017-2020.\n",
    "meta_growth_pv = meta_df.loc[\"FCF\"]/((1+meta_df.loc[\"WACC\"])**meta_df.loc[\"PERIOD\"])\n",
    "meta_growth_pv = meta_growth_pv.drop('2021')"
   ]
  },
  {
   "cell_type": "code",
   "execution_count": 69,
   "id": "07e07acc-7df9-42bd-8f1a-fc0a591566a0",
   "metadata": {},
   "outputs": [
    {
     "data": {
      "text/plain": [
       "558702.5089439774"
      ]
     },
     "execution_count": 69,
     "metadata": {},
     "output_type": "execute_result"
    }
   ],
   "source": [
    "#calculate the Terminal Value and discount to present value. Add the discounted cashflows and the discounted terminal value.\n",
    "meta_perpetuity_g = 0.05\n",
    "meta_perpetuity_pv = (meta_df.at['FCF', '2021']*(1+meta_perpetuity_g))/(meta_df.at['WACC', '2021']- meta_perpetuity_g)\n",
    "meta_wacc = meta_df.at['WACC', '2021']\n",
    "dcf_meta_perpetuity_pv = meta_perpetuity_pv/(1+(meta_wacc))**5\n",
    "dcf_meta_perpetuity_pv"
   ]
  },
  {
   "cell_type": "code",
   "execution_count": 70,
   "id": "311fe5ec-64e6-4503-95aa-b28996a793fb",
   "metadata": {},
   "outputs": [
    {
     "name": "stdout",
     "output_type": "stream",
     "text": [
      "621502.3783077226\n",
      "-0.03476586277949939\n",
      "0.225\n"
     ]
    }
   ],
   "source": [
    "#Preview the sum of all discounted cash flows\n",
    "meta_dcf = meta_growth_pv.sum() + dcf_meta_perpetuity_pv\n",
    "print(meta_dcf)\n",
    "#Add esg premium, which will be a percent increase of the normalized ESG score. Convert MOS to percentage and divide by two (upside and downside margin).\n",
    "meta_esg = faang_data_df.loc[\"META\", \"ESG SCORE\"]\n",
    "print(meta_esg)\n",
    "meta_mos = (faang_data_df.loc[\"META\", \"MARGIN OF SAFETY\"] * 0.01)/2\n",
    "print(meta_mos)"
   ]
  },
  {
   "cell_type": "code",
   "execution_count": 71,
   "id": "fc990924-da0b-46a4-813b-869373837ee4",
   "metadata": {},
   "outputs": [
    {
     "name": "stdout",
     "output_type": "stream",
     "text": [
      "596035.3405915991\n",
      "461927.38895848935\n",
      "730143.292224709\n"
     ]
    }
   ],
   "source": [
    "#Subtract debt, add cash & equivalents. Apply margin. of safety for a range. \n",
    "meta_dcf = meta_dcf - faang_data_df.loc[\"META\", \"DEBT\"] + faang_data_df.loc[\"META\", \"CASH & EQUIVALENTS\"]\n",
    "meta_dcf = meta_dcf*(1+meta_esg)\n",
    "print(meta_dcf)\n",
    "meta_dcf_low = meta_dcf*(1-meta_mos)\n",
    "print(meta_dcf_low)\n",
    "meta_dcf_high = meta_dcf*(1+meta_mos)\n",
    "print(meta_dcf_high)"
   ]
  },
  {
   "cell_type": "markdown",
   "id": "5a67d035-1c63-4af9-8603-64e2076aceb7",
   "metadata": {},
   "source": [
    "### AAPL"
   ]
  },
  {
   "cell_type": "code",
   "execution_count": 72,
   "id": "7c58c8f8-b641-4b26-aa14-2022a9db6cb8",
   "metadata": {},
   "outputs": [],
   "source": [
    "#Discount the cash flows for AAPL from 2017-2020.\n",
    "aapl_growth_pv = aapl_df.loc[\"FCF\"]/((1+aapl_df.loc[\"WACC\"])**aapl_df.loc[\"PERIOD\"])\n",
    "aapl_growth_pv = aapl_growth_pv.drop('2021')"
   ]
  },
  {
   "cell_type": "code",
   "execution_count": 73,
   "id": "d1162cb3-e716-48c3-914c-8810fc3acb90",
   "metadata": {},
   "outputs": [],
   "source": [
    "#calculate the Terminal Value and discount to present value. Add the discounted cashflows and the discounted terminal value.\n",
    "aapl_perpetuity_g = 0.05\n",
    "aapl_perpetuity_pv = (aapl_df.at['FCF', '2020']*(1+aapl_perpetuity_g))/(aapl_df.at['WACC', '2021']- aapl_perpetuity_g)\n",
    "aapl_wacc = aapl_df.at['WACC', '2021']\n",
    "dcf_aapl_perpetuity_pv = aapl_perpetuity_pv/(1+(aapl_wacc))**5"
   ]
  },
  {
   "cell_type": "code",
   "execution_count": 74,
   "id": "c7694d9a-51e2-4373-af8b-8d97ff62bd90",
   "metadata": {},
   "outputs": [
    {
     "data": {
      "text/plain": [
       "1510660.4295669312"
      ]
     },
     "execution_count": 74,
     "metadata": {},
     "output_type": "execute_result"
    }
   ],
   "source": [
    "#Preview the sum of all discounted cash flows\n",
    "aapl_dcf = aapl_growth_pv.sum() + dcf_aapl_perpetuity_pv\n",
    "aapl_dcf"
   ]
  },
  {
   "cell_type": "code",
   "execution_count": 75,
   "id": "04fb35cc-9c05-4631-8737-2e5b3040137a",
   "metadata": {},
   "outputs": [],
   "source": [
    "#Add esg premium, which will be a percent increase of the normalized ESG score. Convert MOS to percentage.\n",
    "aapl_esg = faang_data_df.loc[\"AAPL\", \"ESG SCORE\"]\n",
    "\n",
    "aapl_mos = (faang_data_df.loc[\"AAPL\", \"MARGIN OF SAFETY\"] * 0.01)/2"
   ]
  },
  {
   "cell_type": "code",
   "execution_count": 76,
   "id": "2e25b071-6dd4-49ad-af2e-4b67b1630ff8",
   "metadata": {},
   "outputs": [
    {
     "data": {
      "text/plain": [
       "1296166.6409720299"
      ]
     },
     "execution_count": 76,
     "metadata": {},
     "output_type": "execute_result"
    }
   ],
   "source": [
    "#Subtract debt, add cash & equivalents. Apply margin. of safety for a range. \n",
    "aapl_dcf = aapl_dcf - faang_data_df.loc[\"AAPL\", \"DEBT\"] + faang_data_df.loc[\"AAPL\", \"CASH & EQUIVALENTS\"]\n",
    "aapl_dcf = aapl_dcf*(1+aapl_esg)\n",
    "aapl_dcf_low = aapl_dcf*(1-aapl_mos)\n",
    "aapl_dcf_high = aapl_dcf*(1+aapl_mos)\n",
    "aapl_dcf"
   ]
  },
  {
   "cell_type": "markdown",
   "id": "4a466c3a-944e-42ac-a28c-f6766f286248",
   "metadata": {},
   "source": [
    "### AMZN"
   ]
  },
  {
   "cell_type": "code",
   "execution_count": 77,
   "id": "1b23050b-d485-44ce-8bbd-3b1cb73507f2",
   "metadata": {},
   "outputs": [
    {
     "data": {
      "text/plain": [
       "2017    5812.48\n",
       "2018   13452.29\n",
       "2019   15700.57\n",
       "2020   19275.27\n",
       "dtype: float64"
      ]
     },
     "execution_count": 77,
     "metadata": {},
     "output_type": "execute_result"
    }
   ],
   "source": [
    "#Discount the cash flows for AAPL from 2017-2020.\n",
    "amzn_growth_pv = amzn_df.loc[\"FCF\"]/((1+amzn_df.loc[\"WACC\"])**amzn_df.loc[\"PERIOD\"])\n",
    "amzn_growth_pv = amzn_growth_pv.drop('2021')\n",
    "amzn_growth_pv"
   ]
  },
  {
   "cell_type": "code",
   "execution_count": 78,
   "id": "d455454d-ab95-4bed-b53f-0f9a33eb5c49",
   "metadata": {},
   "outputs": [
    {
     "data": {
      "text/plain": [
       "17794.0"
      ]
     },
     "execution_count": 78,
     "metadata": {},
     "output_type": "execute_result"
    }
   ],
   "source": [
    "amzn_positive_fcf = (0.2*amzn_df.at['FCF', '2021'] + 0.8*amzn_df.at['FCF', '2020'])\n",
    "amzn_positive_fcf"
   ]
  },
  {
   "cell_type": "code",
   "execution_count": 79,
   "id": "afa22114-ba77-4a72-ab7d-8df2527d94e9",
   "metadata": {},
   "outputs": [
    {
     "name": "stdout",
     "output_type": "stream",
     "text": [
      "1139250.0000000002\n"
     ]
    }
   ],
   "source": [
    "#Calculate the Terminal Value and discount to present value. Add the discounted cashflows and the discounted terminal value.\n",
    "amzn_perpetuity_g = 0.05\n",
    "amzn_perpetuity_pv = (amzn_positive_fcf*(1+amzn_perpetuity_g))/(amzn_df.at['WACC', '2021']- amzn_perpetuity_g)\n",
    "amzn_wacc = amzn_df.at['WACC', '2021']\n",
    "dcf_amzn_perpetuity_pv = amzn_perpetuity_pv/(1+(amzn_wacc))**5\n",
    "print(amzn_perpetuity_pv)"
   ]
  },
  {
   "cell_type": "code",
   "execution_count": 80,
   "id": "bb6cd733-3471-4a11-bf7f-26feab6f453e",
   "metadata": {},
   "outputs": [
    {
     "data": {
      "text/plain": [
       "880313.4734454678"
      ]
     },
     "execution_count": 80,
     "metadata": {},
     "output_type": "execute_result"
    }
   ],
   "source": [
    "#Preview the sum of all discounted cash flows\n",
    "amzn_dcf = amzn_growth_pv.sum() + dcf_amzn_perpetuity_pv\n",
    "amzn_dcf"
   ]
  },
  {
   "cell_type": "code",
   "execution_count": 81,
   "id": "08b0d27f-1dda-4ef2-be10-3443e8d7b00a",
   "metadata": {},
   "outputs": [],
   "source": [
    "#Add esg premium, which will be a percent increase of the normalized ESG score. Convert MOS to percentage.\n",
    "amzn_esg = faang_data_df.loc[\"AMZN\", \"ESG SCORE\"]\n",
    "\n",
    "amzn_mos = (faang_data_df.loc[\"AMZN\", \"MARGIN OF SAFETY\"] * 0.01)/2"
   ]
  },
  {
   "cell_type": "code",
   "execution_count": 82,
   "id": "7a77c21e-1232-4d84-8c91-1c8bc35b1bcf",
   "metadata": {},
   "outputs": [
    {
     "data": {
      "text/plain": [
       "869912.359954118"
      ]
     },
     "execution_count": 82,
     "metadata": {},
     "output_type": "execute_result"
    }
   ],
   "source": [
    "#Subtract debt, add cash & equivalents. Apply margin. of safety for a range. \n",
    "amzn_dcf = amzn_dcf - faang_data_df.loc[\"AMZN\", \"DEBT\"] + faang_data_df.loc[\"AMZN\", \"CASH & EQUIVALENTS\"]\n",
    "amzn_dcf = amzn_dcf*(1+amzn_esg)\n",
    "amzn_dcf_low = amzn_dcf*(1-amzn_mos)\n",
    "amzn_dcf_high = amzn_dcf*(1+amzn_mos)\n",
    "\n",
    "amzn_dcf"
   ]
  },
  {
   "cell_type": "markdown",
   "id": "307a7c48-18a4-4eb8-8e34-5a8c8bb07dd7",
   "metadata": {},
   "source": [
    "### GOOG"
   ]
  },
  {
   "cell_type": "code",
   "execution_count": 83,
   "id": "2681227d-1b83-4f45-b716-50fa46b276d3",
   "metadata": {},
   "outputs": [],
   "source": [
    "#Discount the cash flows for META from 2017-2020.\n",
    "goog_growth_pv = goog_df.loc[\"FCF\"]/((1+goog_df.loc[\"WACC\"])**goog_df.loc[\"PERIOD\"])\n",
    "goog_growth_pv = goog_growth_pv.drop('2021')"
   ]
  },
  {
   "cell_type": "code",
   "execution_count": 84,
   "id": "e0b908e9-a21b-4de4-bef4-adaffd6f73ad",
   "metadata": {},
   "outputs": [
    {
     "data": {
      "text/plain": [
       "2080552.922620001"
      ]
     },
     "execution_count": 84,
     "metadata": {},
     "output_type": "execute_result"
    }
   ],
   "source": [
    "#calculate the Terminal Value and discount to present value. Add the discounted cashflows and the discounted terminal value.\n",
    "goog_perpetuity_g = 0.05\n",
    "goog_perpetuity_pv = (goog_df.at['FCF', '2021']*(1+goog_perpetuity_g))/(goog_df.at['WACC', '2021']- goog_perpetuity_g)\n",
    "goog_wacc = goog_df.at['WACC', '2021']\n",
    "dcf_goog_perpetuity_pv = goog_perpetuity_pv/(1+(goog_wacc))**5\n",
    "dcf_goog_perpetuity_pv"
   ]
  },
  {
   "cell_type": "code",
   "execution_count": 85,
   "id": "877c543b-0474-4fce-b497-bc50f1ce808a",
   "metadata": {},
   "outputs": [
    {
     "name": "stdout",
     "output_type": "stream",
     "text": [
      "2179049.5819982053\n",
      "-0.023283559476178495\n",
      "0.225\n"
     ]
    }
   ],
   "source": [
    "#Preview the sum of all discounted cash flows\n",
    "goog_dcf = goog_growth_pv.sum() + dcf_goog_perpetuity_pv\n",
    "print(goog_dcf)\n",
    "#Add esg premium, which will be a percent increase of the normalized ESG score. Convert MOS to percentage.\n",
    "goog_esg = faang_data_df.loc[\"GOOG\", \"ESG SCORE\"]\n",
    "print(goog_esg)\n",
    "goog_mos = (faang_data_df.loc[\"GOOG\", \"MARGIN OF SAFETY\"] * 0.01)/2\n",
    "print(goog_mos)"
   ]
  },
  {
   "cell_type": "code",
   "execution_count": 86,
   "id": "ea43e52c-54c5-40c2-9690-3ac6e8e0b4d7",
   "metadata": {},
   "outputs": [
    {
     "name": "stdout",
     "output_type": "stream",
     "text": [
      "2117692.7368799523\n",
      "1641211.871081963\n",
      "2594173.602677942\n"
     ]
    }
   ],
   "source": [
    "#Subtract debt, add cash & equivalents. Apply margin. of safety for a range. \n",
    "goog_dcf = goog_dcf - faang_data_df.loc[\"GOOG\", \"DEBT\"] + faang_data_df.loc[\"GOOG\", \"CASH & EQUIVALENTS\"]\n",
    "goog_dcf = goog_dcf*(1+goog_esg)\n",
    "print(goog_dcf)\n",
    "goog_dcf_low = goog_dcf*(1-goog_mos)\n",
    "print(goog_dcf_low)\n",
    "goog_dcf_high =goog_dcf*(1+goog_mos)\n",
    "print(goog_dcf_high)"
   ]
  },
  {
   "cell_type": "markdown",
   "id": "7f1aa587-a4c4-4ccc-bd94-069419c836c8",
   "metadata": {
    "tags": []
   },
   "source": [
    "## Print the results"
   ]
  },
  {
   "cell_type": "markdown",
   "id": "bf5cc862-6c56-49b1-ad2a-1150c089d827",
   "metadata": {},
   "source": [
    "### META"
   ]
  },
  {
   "cell_type": "code",
   "execution_count": 87,
   "id": "feeaa04a-7124-457e-85d7-8a83348430d5",
   "metadata": {},
   "outputs": [
    {
     "name": "stdout",
     "output_type": "stream",
     "text": [
      "The fair value of META with an ESG premium of -0.03476586277949939% and a 45% margin of satefy should fall between:\n",
      "$461927.39 and $730143.29.\n",
      "Our mean fair value is $596035.34.\n"
     ]
    }
   ],
   "source": [
    "print(f\"The fair value of META with an ESG premium of {meta_esg}% and a 45% margin of satefy should fall between:\")\n",
    "print(f\"${meta_dcf_low:.2f} and ${meta_dcf_high:.2f}.\")\n",
    "print(f\"Our mean fair value is ${meta_dcf:.2f}.\")"
   ]
  },
  {
   "cell_type": "markdown",
   "id": "23088677-d38a-401e-9e72-6ffb6cd354ce",
   "metadata": {
    "tags": []
   },
   "source": [
    "### AAPL"
   ]
  },
  {
   "cell_type": "code",
   "execution_count": 88,
   "id": "46387842-2a02-4f4e-b128-5b3a6dd025c7",
   "metadata": {},
   "outputs": [
    {
     "name": "stdout",
     "output_type": "stream",
     "text": [
      "The fair value of AAPL with an ESG premium of -0.08622359239808565% and a 45% margin of satefy should fall between:\n",
      "$1004529.15 and $1587804.14.\n",
      "Our mean fair value is $1296166.64.\n"
     ]
    }
   ],
   "source": [
    "print(f\"The fair value of AAPL with an ESG premium of {aapl_esg}% and a 45% margin of satefy should fall between:\")\n",
    "print(f\"${aapl_dcf_low:.2f} and ${aapl_dcf_high:.2f}.\")\n",
    "print(f\"Our mean fair value is ${aapl_dcf:.2f}.\")"
   ]
  },
  {
   "cell_type": "markdown",
   "id": "e95bb94e-76ed-42e9-af9d-6a11406e0bb9",
   "metadata": {},
   "source": [
    "### AMZN"
   ]
  },
  {
   "cell_type": "code",
   "execution_count": 89,
   "id": "16a54b26-d338-405b-b09a-656ab49bb5e8",
   "metadata": {},
   "outputs": [
    {
     "name": "stdout",
     "output_type": "stream",
     "text": [
      "The fair value of AMZN with an ESG premium of 0.14427301465376352% and a 45% margin of satefy should fall between:\n",
      "$674182.08 and $1065642.64.\n",
      "Our mean fair value is $869912.36.\n"
     ]
    }
   ],
   "source": [
    "print(f\"The fair value of AMZN with an ESG premium of {amzn_esg}% and a 45% margin of satefy should fall between:\")\n",
    "print(f\"${amzn_dcf_low:.2f} and ${amzn_dcf_high:.2f}.\")\n",
    "print(f\"Our mean fair value is ${amzn_dcf:.2f}.\")"
   ]
  },
  {
   "cell_type": "markdown",
   "id": "606883da-1c34-43d8-9f40-50bef4626101",
   "metadata": {},
   "source": [
    "### GOOG"
   ]
  },
  {
   "cell_type": "code",
   "execution_count": 90,
   "id": "5e0cd262-7ca7-4a32-812a-14dea3968558",
   "metadata": {},
   "outputs": [
    {
     "name": "stdout",
     "output_type": "stream",
     "text": [
      "The fair value of GOOG with an ESG premium of -0.023283559476178495% and a 45% margin of satefy should fall between:\n",
      "$1641211.87 and $2594173.60.\n",
      "Our mean fair value is $2117692.74.\n"
     ]
    }
   ],
   "source": [
    "print(f\"The fair value of GOOG with an ESG premium of {goog_esg}% and a 45% margin of satefy should fall between:\")\n",
    "print(f\"${goog_dcf_low:.2f} and ${goog_dcf_high:.2f}.\")\n",
    "print(f\"Our mean fair value is ${goog_dcf:.2f}.\")"
   ]
  },
  {
   "cell_type": "markdown",
   "id": "eb24c8a0-4d01-4770-8619-a22f3592dcec",
   "metadata": {},
   "source": [
    "## Save the results"
   ]
  },
  {
   "cell_type": "code",
   "execution_count": 91,
   "id": "7d6f2a5d-7b22-4d37-b809-bc7cfa85ecb8",
   "metadata": {},
   "outputs": [],
   "source": [
    "pd.set_option('display.float_format', '{:.2f}'.format)\n",
    "data = [[meta_esg, aapl_esg, amzn_esg, goog_esg],\n",
    "        [45, 45, 45, 45],\n",
    "        [meta_dcf_low, aapl_dcf_low, amzn_dcf_low, goog_dcf_low],\n",
    "        [meta_dcf_high, aapl_dcf_high, amzn_dcf_high, goog_dcf_high],\n",
    "        [meta_dcf, aapl_dcf, amzn_dcf, goog_dcf]]\n",
    "res_df = pd.DataFrame(\n",
    "    data,\n",
    "    index = ['esg_prem', 'margin_of_safety', 'dcf_low', 'dcf_high', 'dcf'],\n",
    "    columns = [ 'META', 'AAPL', 'AMZN', 'GOOG']\n",
    ")\n",
    "res_df.to_csv('./FAANG_DATA/res.csv')"
   ]
  },
  {
   "cell_type": "code",
   "execution_count": null,
   "id": "3e8bfdf5-e5b1-4ff2-9cb6-16078212357f",
   "metadata": {},
   "outputs": [],
   "source": []
  }
 ],
 "metadata": {
  "kernelspec": {
   "display_name": "Python 3 (ipykernel)",
   "language": "python",
   "name": "python3"
  },
  "language_info": {
   "codemirror_mode": {
    "name": "ipython",
    "version": 3
   },
   "file_extension": ".py",
   "mimetype": "text/x-python",
   "name": "python",
   "nbconvert_exporter": "python",
   "pygments_lexer": "ipython3",
   "version": "3.7.13"
  }
 },
 "nbformat": 4,
 "nbformat_minor": 5
}
